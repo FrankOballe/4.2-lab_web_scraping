{
 "cells": [
  {
   "cell_type": "markdown",
   "metadata": {},
   "source": [
    "# Web Scraping Lab\n",
    "\n",
    "You will find in this notebook some scrapy exercises to practise your scraping skills.\n",
    "\n",
    "**Tips:**\n",
    "\n",
    "- Check the response status code for each request to ensure you have obtained the intended contennt.\n",
    "- Print the response text in each request to understand the kind of info you are getting and its format.\n",
    "- Check for patterns in the response text to extract the data/info requested in each question.\n",
    "- Visit each url and take a look at its source through Chrome DevTools. You'll need to identify the html tags, special class names etc. used for the html content you are expected to extract."
   ]
  },
  {
   "cell_type": "markdown",
   "metadata": {},
   "source": [
    "- [Requests library](http://docs.python-requests.org/en/master/#the-user-guide) documentation \n",
    "- [Beautiful Soup Doc](https://www.crummy.com/software/BeautifulSoup/bs4/doc/)\n",
    "- [Urllib](https://docs.python.org/3/library/urllib.html#module-urllib)\n",
    "- [re lib](https://docs.python.org/3/library/re.html)\n",
    "- [lxml lib](https://lxml.de/)\n",
    "- [Scrapy](https://scrapy.org/)\n",
    "- [List of HTTP status codes](https://en.wikipedia.org/wiki/List_of_HTTP_status_codes)\n",
    "- [HTML basics](http://www.simplehtmlguide.com/cheatsheet.php)\n",
    "- [CSS basics](https://www.cssbasics.com/#page_start)"
   ]
  },
  {
   "cell_type": "markdown",
   "metadata": {},
   "source": [
    "#### Below are the libraries and modules you may need. `requests`,  `BeautifulSoup` and `pandas` are imported for you. If you prefer to use additional libraries feel free to uncomment them."
   ]
  },
  {
   "cell_type": "code",
   "execution_count": 118,
   "metadata": {},
   "outputs": [],
   "source": [
    "import requests as req\n",
    "from bs4 import BeautifulSoup as bs\n",
    "import pandas as pd\n",
    "import json\n",
    "# from pprint import pprint\n",
    "# from lxml import html\n",
    "# from lxml.html import fromstring\n",
    "# import urllib.request\n",
    "# from urllib.request import urlopen\n",
    "# import random\n",
    "import re\n",
    "# import scrapy"
   ]
  },
  {
   "cell_type": "markdown",
   "metadata": {},
   "source": [
    "#### Download, parse (using BeautifulSoup), and print the content from the Trending Developers page from GitHub:"
   ]
  },
  {
   "cell_type": "code",
   "execution_count": 6,
   "metadata": {},
   "outputs": [],
   "source": [
    "# This is the url you will scrape in this exercise\n",
    "url = 'https://github.com/trending/developers'"
   ]
  },
  {
   "cell_type": "code",
   "execution_count": 13,
   "metadata": {},
   "outputs": [],
   "source": [
    "github = req.get(url).text\n",
    "sopa = bs(github, 'html.parser')\n"
   ]
  },
  {
   "cell_type": "markdown",
   "metadata": {},
   "source": [
    "#### Display the names of the trending developers retrieved in the previous step.\n",
    "\n",
    "Your output should be a Python list of developer names. Each name should not contain any html tag.\n",
    "\n",
    "**Instructions:**\n",
    "\n",
    "1. Find out the html tag and class names used for the developer names. You can achieve this using Chrome DevTools.\n",
    "\n",
    "1. Use BeautifulSoup to extract all the html elements that contain the developer names.\n",
    "\n",
    "1. Use string manipulation techniques to replace whitespaces and linebreaks (i.e. `\\n`) in the *text* of each html element. Use a list to store the clean names.\n",
    "\n",
    "1. Print the list of names.\n",
    "\n",
    "Your output should look like below:\n",
    "\n",
    "```\n",
    "['trimstray (@trimstray)',\n",
    " 'joewalnes (JoeWalnes)',\n",
    " 'charlax (Charles-AxelDein)',\n",
    " 'ForrestKnight (ForrestKnight)',\n",
    " 'revery-ui (revery-ui)',\n",
    " 'alibaba (Alibaba)',\n",
    " 'Microsoft (Microsoft)',\n",
    " 'github (GitHub)',\n",
    " 'facebook (Facebook)',\n",
    " 'boazsegev (Bo)',\n",
    " 'google (Google)',\n",
    " 'cloudfetch',\n",
    " 'sindresorhus (SindreSorhus)',\n",
    " 'tensorflow',\n",
    " 'apache (TheApacheSoftwareFoundation)',\n",
    " 'DevonCrawford (DevonCrawford)',\n",
    " 'ARMmbed (ArmMbed)',\n",
    " 'vuejs (vuejs)',\n",
    " 'fastai (fast.ai)',\n",
    " 'QiShaoXuan (Qi)',\n",
    " 'joelparkerhenderson (JoelParkerHenderson)',\n",
    " 'torvalds (LinusTorvalds)',\n",
    " 'CyC2018',\n",
    " 'komeiji-satori (神楽坂覚々)',\n",
    " 'script-8']\n",
    " ```"
   ]
  },
  {
   "cell_type": "code",
   "execution_count": 108,
   "metadata": {},
   "outputs": [
    {
     "data": {
      "text/plain": [
       "['sobolevn',\n",
       " 'alex',\n",
       " 'earlephilhower',\n",
       " 'hrydgard',\n",
       " 'ringabout',\n",
       " 'jsoref',\n",
       " 'aler9',\n",
       " 'leerob',\n",
       " 'shahednasser',\n",
       " 'marcusolsson',\n",
       " 'aykevl',\n",
       " 'emilk',\n",
       " 'manucorporat',\n",
       " 'inducer',\n",
       " 'jdhao',\n",
       " 'claremacrae',\n",
       " 'ouchadam',\n",
       " 'miraclx',\n",
       " 'hauntsaninja',\n",
       " 'stephencelis',\n",
       " 'puzpuzpuz',\n",
       " 'lewis6991',\n",
       " 'jonataslaw',\n",
       " 'hathach']"
      ]
     },
     "execution_count": 108,
     "metadata": {},
     "output_type": "execute_result"
    }
   ],
   "source": [
    "sopit = sopa.find_all(\"p\", class_='f4 text-normal mb-1')\n",
    "sopit = [f.text.strip() for f in sopit]\n",
    "sopit"
   ]
  },
  {
   "cell_type": "code",
   "execution_count": 99,
   "metadata": {},
   "outputs": [
    {
     "data": {
      "text/plain": [
       "['Nikita Sobolev',\n",
       " 'Alex Gaynor',\n",
       " 'Earle F. Philhower, III',\n",
       " 'Henrik Rydgård',\n",
       " 'ringabout',\n",
       " 'Josh Soref',\n",
       " 'Alessandro Ros',\n",
       " 'Lee Robinson',\n",
       " 'Shahed Nasser',\n",
       " 'Marcus Olsson',\n",
       " 'Ayke',\n",
       " 'Emil Ernerfeldt',\n",
       " 'Manu MA',\n",
       " 'Andreas Klöckner',\n",
       " 'jdhao',\n",
       " 'Clare Macrae',\n",
       " 'Adam Brown',\n",
       " 'Miraculous Owonubi',\n",
       " 'Shantanu',\n",
       " 'Stephen Celis',\n",
       " 'Andrei Pechkurov',\n",
       " 'Lewis Russell',\n",
       " 'Jonny Borges',\n",
       " 'Ha Thach',\n",
       " 'Pandapip1']"
      ]
     },
     "execution_count": 99,
     "metadata": {},
     "output_type": "execute_result"
    }
   ],
   "source": [
    "sopita = sopa.find_all(\"h1\", class_='h3 lh-condensed')\n",
    "#print(sopita[0].text.strip())\n",
    "sopita = [f.text.strip() for f in sopita]\n",
    "sopita"
   ]
  },
  {
   "cell_type": "code",
   "execution_count": 97,
   "metadata": {
    "scrolled": true
   },
   "outputs": [
    {
     "data": {
      "text/plain": [
       "[('Nikita Sobolev', 'sobolevn'),\n",
       " ('Alex Gaynor', 'alex'),\n",
       " ('Earle F. Philhower, III', 'earlephilhower'),\n",
       " ('Henrik Rydgård', 'hrydgard'),\n",
       " ('ringabout', 'ringabout'),\n",
       " ('Josh Soref', 'jsoref'),\n",
       " ('Alessandro Ros', 'aler9'),\n",
       " ('Lee Robinson', 'leerob'),\n",
       " ('Shahed Nasser', 'shahednasser'),\n",
       " ('Marcus Olsson', 'marcusolsson'),\n",
       " ('Ayke', 'aykevl'),\n",
       " ('Emil Ernerfeldt', 'emilk'),\n",
       " ('Manu MA', 'manucorporat'),\n",
       " ('Andreas Klöckner', 'inducer'),\n",
       " ('jdhao', 'jdhao'),\n",
       " ('Clare Macrae', 'claremacrae'),\n",
       " ('Adam Brown', 'ouchadam'),\n",
       " ('Miraculous Owonubi', 'miraclx'),\n",
       " ('Shantanu', 'hauntsaninja'),\n",
       " ('Stephen Celis', 'stephencelis'),\n",
       " ('Andrei Pechkurov', 'puzpuzpuz'),\n",
       " ('Lewis Russell', 'lewis6991'),\n",
       " ('Jonny Borges', 'jonataslaw'),\n",
       " ('Ha Thach', 'hathach')]"
      ]
     },
     "execution_count": 97,
     "metadata": {},
     "output_type": "execute_result"
    }
   ],
   "source": [
    "nombres_tags = [(sopita, sopit) for (sopita, sopit) in zip(sopita, sopit)]\n",
    "nombres_tags"
   ]
  },
  {
   "cell_type": "markdown",
   "metadata": {},
   "source": [
    "#### Display the trending Python repositories in GitHub\n",
    "\n",
    "The steps to solve this problem is similar to the previous one except that you need to find out the repository names instead of developer names."
   ]
  },
  {
   "cell_type": "code",
   "execution_count": 115,
   "metadata": {},
   "outputs": [],
   "source": [
    "# This is the url you will scrape in this exercise\n",
    "url = 'https://github.com/trending/python?since=daily'"
   ]
  },
  {
   "cell_type": "code",
   "execution_count": 116,
   "metadata": {},
   "outputs": [],
   "source": [
    "trend = req.get(url).text\n",
    "soup = bs(trend, 'html.parser')\n"
   ]
  },
  {
   "cell_type": "code",
   "execution_count": 117,
   "metadata": {
    "scrolled": true
   },
   "outputs": [
    {
     "data": {
      "text/plain": [
       "['bregman-arie /\\n\\n      devops-exercises',\n",
       " 'public-apis /\\n\\n      public-apis',\n",
       " 'geohot /\\n\\n      tinygrad',\n",
       " 'mlflow /\\n\\n      mlflow',\n",
       " 'PaddlePaddle /\\n\\n      PaddleDetection',\n",
       " 'google /\\n\\n      jax',\n",
       " 'iterativv /\\n\\n      NostalgiaForInfinity',\n",
       " 'netbox-community /\\n\\n      netbox',\n",
       " 'tiangolo /\\n\\n      typer',\n",
       " 'streamlit /\\n\\n      streamlit',\n",
       " 'modelscope /\\n\\n      modelscope',\n",
       " 'LetusDevops /\\n\\n      LearnPython',\n",
       " 'nerfstudio-project /\\n\\n      nerfstudio',\n",
       " 'idanya /\\n\\n      algo-trader',\n",
       " 'heartexlabs /\\n\\n      labelImg',\n",
       " 'microsoft /\\n\\n      pyright',\n",
       " 'sqlmapproject /\\n\\n      sqlmap',\n",
       " 'unifyai /\\n\\n      ivy',\n",
       " 'crytic /\\n\\n      slither',\n",
       " 'ultralytics /\\n\\n      yolov5',\n",
       " 'home-assistant /\\n\\n      core',\n",
       " 'WeAreMahsaAmini /\\n\\n      FreeInternet',\n",
       " 'open-mmlab /\\n\\n      mmocr',\n",
       " 'Lightning-AI /\\n\\n      lightning',\n",
       " 'demisto /\\n\\n      content']"
      ]
     },
     "execution_count": 117,
     "metadata": {},
     "output_type": "execute_result"
    }
   ],
   "source": [
    "name = soup.find_all(\"h1\", class_='h3 lh-condensed')\n",
    "name = [f.text.strip() for f in name]\n",
    "name"
   ]
  },
  {
   "cell_type": "code",
   "execution_count": null,
   "metadata": {},
   "outputs": [],
   "source": [
    "patron = \"\\s\\w+.\\w+\""
   ]
  },
  {
   "cell_type": "code",
   "execution_count": 157,
   "metadata": {},
   "outputs": [],
   "source": [
    "def regex_daily(reg):\n",
    "    reg=re.findall(patron, reg)\n",
    "    \n",
    "    return reg\n"
   ]
  },
  {
   "cell_type": "code",
   "execution_count": 167,
   "metadata": {},
   "outputs": [
    {
     "data": {
      "text/plain": [
       "['devops-exercises',\n",
       " 'public-apis',\n",
       " 'tinygrad',\n",
       " 'mlflow',\n",
       " 'PaddleDetection',\n",
       " 'jax',\n",
       " 'NostalgiaForInfinity',\n",
       " 'netbox',\n",
       " 'typer',\n",
       " 'streamlit',\n",
       " 'modelscope',\n",
       " 'LearnPython',\n",
       " 'nerfstudio',\n",
       " 'algo-trader',\n",
       " 'labelImg',\n",
       " 'pyright',\n",
       " 'sqlmap',\n",
       " 'ivy',\n",
       " 'slither',\n",
       " 'yolov5',\n",
       " 'core',\n",
       " 'FreeInternet',\n",
       " 'mmocr',\n",
       " 'lightning',\n",
       " 'content']"
      ]
     },
     "execution_count": 167,
     "metadata": {},
     "output_type": "execute_result"
    }
   ],
   "source": [
    "mapa = list(map(regex_daily, name))\n",
    "mapa = [i for a in mapa for i in a]\n",
    "mapa = [i.strip() for i in mapa]\n",
    "mapa"
   ]
  },
  {
   "cell_type": "code",
   "execution_count": 155,
   "metadata": {},
   "outputs": [
    {
     "data": {
      "text/plain": [
       "[[' devops-exercises'],\n",
       " [' public-apis'],\n",
       " [' tinygrad'],\n",
       " [' mlflow'],\n",
       " [' PaddleDetection'],\n",
       " [' jax'],\n",
       " [' NostalgiaForInfinity'],\n",
       " [' netbox'],\n",
       " [' typer'],\n",
       " [' streamlit'],\n",
       " [' modelscope'],\n",
       " [' LearnPython'],\n",
       " [' nerfstudio'],\n",
       " [' algo-trader'],\n",
       " [' labelImg'],\n",
       " [' pyright'],\n",
       " [' sqlmap'],\n",
       " [' ivy'],\n",
       " [' slither'],\n",
       " [' yolov5'],\n",
       " [' core'],\n",
       " [' FreeInternet'],\n",
       " [' mmocr'],\n",
       " [' lightning'],\n",
       " [' content']]"
      ]
     },
     "execution_count": 155,
     "metadata": {},
     "output_type": "execute_result"
    }
   ],
   "source": [
    "nombre = [re.findall(r\"(\\s\\w+.\\w+)\", e)for e in name]\n",
    "nombre"
   ]
  },
  {
   "cell_type": "code",
   "execution_count": 154,
   "metadata": {},
   "outputs": [
    {
     "name": "stdout",
     "output_type": "stream",
     "text": [
      "['devops-exercises', 'public-apis', 'tinygrad', 'mlflow', 'PaddleDetection', 'jax', 'NostalgiaForInfinity', 'netbox', 'typer', 'streamlit', 'modelscope', 'LearnPython', 'nerfstudio', 'algo-trader', 'labelImg', 'pyright', 'sqlmap', 'ivy', 'slither', 'yolov5', 'core', 'FreeInternet', 'mmocr', 'lightning', 'content']\n"
     ]
    }
   ],
   "source": [
    "lista = []\n",
    "for i in nombre:\n",
    "    for a in i:\n",
    "        lista.append(a.strip())\n",
    "print(lista)"
   ]
  },
  {
   "cell_type": "markdown",
   "metadata": {},
   "source": [
    "#### Display all the image links from Walt Disney wikipedia page"
   ]
  },
  {
   "cell_type": "code",
   "execution_count": 278,
   "metadata": {},
   "outputs": [],
   "source": [
    "# This is the url you will scrape in this exercise\n",
    "url = 'https://en.wikipedia.org/wiki/Walt_Disney'"
   ]
  },
  {
   "cell_type": "code",
   "execution_count": 279,
   "metadata": {},
   "outputs": [],
   "source": [
    "disney = req.get(url).text\n",
    "walt = bs(disney, 'html.parser')"
   ]
  },
  {
   "cell_type": "code",
   "execution_count": 280,
   "metadata": {},
   "outputs": [],
   "source": [
    "nam = walt.find_all('img')"
   ]
  },
  {
   "cell_type": "code",
   "execution_count": 283,
   "metadata": {},
   "outputs": [
    {
     "data": {
      "text/plain": [
       "['//upload.wikimedia.org/wikipedia/en/thumb/e/e7/Cscr-featured.svg/20px-Cscr-featured.svg.png',\n",
       " '//upload.wikimedia.org/wikipedia/en/thumb/8/8c/Extended-protection-shackle.svg/20px-Extended-protection-shackle.svg.png',\n",
       " '//upload.wikimedia.org/wikipedia/commons/thumb/d/df/Walt_Disney_1946.JPG/220px-Walt_Disney_1946.JPG',\n",
       " '//upload.wikimedia.org/wikipedia/commons/thumb/8/87/Walt_Disney_1942_signature.svg/150px-Walt_Disney_1942_signature.svg.png',\n",
       " '//upload.wikimedia.org/wikipedia/commons/thumb/3/3a/Walt_Disney_Birthplace_Exterior_Hermosa_Chicago_Illinois.jpg/220px-Walt_Disney_Birthplace_Exterior_Hermosa_Chicago_Illinois.jpg',\n",
       " '//upload.wikimedia.org/wikipedia/commons/thumb/c/c4/Walt_Disney_envelope_ca._1921.jpg/220px-Walt_Disney_envelope_ca._1921.jpg',\n",
       " '//upload.wikimedia.org/wikipedia/commons/thumb/0/0d/Trolley_Troubles_poster.jpg/170px-Trolley_Troubles_poster.jpg',\n",
       " '//upload.wikimedia.org/wikipedia/en/thumb/4/4e/Steamboat-willie.jpg/170px-Steamboat-willie.jpg',\n",
       " '//upload.wikimedia.org/wikipedia/commons/thumb/5/57/Walt_Disney_1935.jpg/170px-Walt_Disney_1935.jpg',\n",
       " '//upload.wikimedia.org/wikipedia/commons/thumb/c/cd/Walt_Disney_Snow_white_1937_trailer_screenshot_%2813%29.jpg/220px-Walt_Disney_Snow_white_1937_trailer_screenshot_%2813%29.jpg',\n",
       " '//upload.wikimedia.org/wikipedia/commons/thumb/1/15/Disney_drawing_goofy.jpg/170px-Disney_drawing_goofy.jpg',\n",
       " '//upload.wikimedia.org/wikipedia/commons/thumb/8/8c/WaltDisneyplansDisneylandDec1954.jpg/220px-WaltDisneyplansDisneylandDec1954.jpg',\n",
       " '//upload.wikimedia.org/wikipedia/commons/thumb/f/ff/Walt_disney_portrait_right.jpg/170px-Walt_disney_portrait_right.jpg',\n",
       " '//upload.wikimedia.org/wikipedia/commons/thumb/1/1a/Walt_Disney_Grave.JPG/170px-Walt_Disney_Grave.JPG',\n",
       " '//upload.wikimedia.org/wikipedia/commons/thumb/2/2d/Roy_O._Disney_with_Company_at_Press_Conference.jpg/170px-Roy_O._Disney_with_Company_at_Press_Conference.jpg',\n",
       " '//upload.wikimedia.org/wikipedia/commons/thumb/1/13/DisneySchiphol1951.jpg/220px-DisneySchiphol1951.jpg',\n",
       " '//upload.wikimedia.org/wikipedia/commons/thumb/6/6c/Disney1968.jpg/170px-Disney1968.jpg',\n",
       " '//upload.wikimedia.org/wikipedia/commons/thumb/b/b0/Disney_Oscar_1953_%28cropped%29.jpg/170px-Disney_Oscar_1953_%28cropped%29.jpg',\n",
       " '//upload.wikimedia.org/wikipedia/en/thumb/4/4a/Commons-logo.svg/30px-Commons-logo.svg.png',\n",
       " '//upload.wikimedia.org/wikipedia/commons/thumb/4/4c/Wikisource-logo.svg/38px-Wikisource-logo.svg.png',\n",
       " '//upload.wikimedia.org/wikipedia/commons/thumb/f/fa/Wikiquote-logo.svg/34px-Wikiquote-logo.svg.png',\n",
       " '//upload.wikimedia.org/wikipedia/en/thumb/8/8a/OOjs_UI_icon_edit-ltr-progressive.svg/10px-OOjs_UI_icon_edit-ltr-progressive.svg.png',\n",
       " '//upload.wikimedia.org/wikipedia/en/thumb/8/8a/OOjs_UI_icon_edit-ltr-progressive.svg/10px-OOjs_UI_icon_edit-ltr-progressive.svg.png',\n",
       " '//upload.wikimedia.org/wikipedia/commons/thumb/e/e3/Disneyland_Resort_logo.svg/135px-Disneyland_Resort_logo.svg.png',\n",
       " '//upload.wikimedia.org/wikipedia/commons/thumb/d/da/Animation_disc.svg/20px-Animation_disc.svg.png',\n",
       " '//upload.wikimedia.org/wikipedia/en/thumb/6/69/P_vip.svg/19px-P_vip.svg.png',\n",
       " '//upload.wikimedia.org/wikipedia/commons/thumb/1/1a/Magic_Kingdom_castle.jpg/15px-Magic_Kingdom_castle.jpg',\n",
       " '//upload.wikimedia.org/wikipedia/en/thumb/e/e7/Video-x-generic.svg/19px-Video-x-generic.svg.png',\n",
       " '//upload.wikimedia.org/wikipedia/commons/thumb/a/a3/Flag_of_Los_Angeles_County%2C_California.svg/21px-Flag_of_Los_Angeles_County%2C_California.svg.png',\n",
       " '//upload.wikimedia.org/wikipedia/commons/thumb/8/8c/Blank_television_set.svg/21px-Blank_television_set.svg.png',\n",
       " '//upload.wikimedia.org/wikipedia/en/thumb/a/a4/Flag_of_the_United_States.svg/21px-Flag_of_the_United_States.svg.png',\n",
       " '//upload.wikimedia.org/wikipedia/en/thumb/4/4a/Commons-logo.svg/14px-Commons-logo.svg.png',\n",
       " '//upload.wikimedia.org/wikipedia/commons/thumb/f/fa/Wikiquote-logo.svg/16px-Wikiquote-logo.svg.png',\n",
       " '//upload.wikimedia.org/wikipedia/commons/thumb/4/4c/Wikisource-logo.svg/18px-Wikisource-logo.svg.png',\n",
       " '//upload.wikimedia.org/wikipedia/commons/thumb/f/ff/Wikidata-logo.svg/21px-Wikidata-logo.svg.png',\n",
       " '//upload.wikimedia.org/wikipedia/en/thumb/8/8a/OOjs_UI_icon_edit-ltr-progressive.svg/10px-OOjs_UI_icon_edit-ltr-progressive.svg.png',\n",
       " '//en.wikipedia.org/wiki/Special:CentralAutoLogin/start?type=1x1',\n",
       " '/static/images/footer/wikimedia-button.png',\n",
       " '/static/images/footer/poweredby_mediawiki_88x31.png']"
      ]
     },
     "execution_count": 283,
     "metadata": {},
     "output_type": "execute_result"
    }
   ],
   "source": [
    "nam1 = []\n",
    "for i in nam:\n",
    "    nam1.append(i.get('src'))\n",
    "nam1"
   ]
  },
  {
   "cell_type": "code",
   "execution_count": 282,
   "metadata": {},
   "outputs": [
    {
     "ename": "ValueError",
     "evalue": "list.remove(x): x not in list",
     "output_type": "error",
     "traceback": [
      "\u001b[1;31m---------------------------------------------------------------------------\u001b[0m",
      "\u001b[1;31mValueError\u001b[0m                                Traceback (most recent call last)",
      "Input \u001b[1;32mIn [282]\u001b[0m, in \u001b[0;36m<cell line: 1>\u001b[1;34m()\u001b[0m\n\u001b[1;32m----> 1\u001b[0m \u001b[43mnam1\u001b[49m\u001b[38;5;241;43m.\u001b[39;49m\u001b[43mremove\u001b[49m\u001b[43m(\u001b[49m\u001b[38;5;124;43m'\u001b[39;49m\u001b[38;5;124;43m'\u001b[39;49m\u001b[43m)\u001b[49m\n\u001b[0;32m      2\u001b[0m nam1\n",
      "\u001b[1;31mValueError\u001b[0m: list.remove(x): x not in list"
     ]
    }
   ],
   "source": [
    "nam1.remove('')\n",
    "nam1"
   ]
  },
  {
   "cell_type": "code",
   "execution_count": null,
   "metadata": {},
   "outputs": [],
   "source": []
  },
  {
   "cell_type": "markdown",
   "metadata": {},
   "source": [
    "#### Retrieve an arbitary Wikipedia page of \"Python\" and create a list of links on that page"
   ]
  },
  {
   "cell_type": "code",
   "execution_count": 227,
   "metadata": {},
   "outputs": [],
   "source": [
    "# This is the url you will scrape in this exercise\n",
    "url ='https://en.wikipedia.org/wiki/Python' "
   ]
  },
  {
   "cell_type": "code",
   "execution_count": 228,
   "metadata": {},
   "outputs": [],
   "source": [
    "pito = req.get(url).text\n",
    "piton = bs(pito, 'html.parser')"
   ]
  },
  {
   "cell_type": "code",
   "execution_count": 235,
   "metadata": {},
   "outputs": [
    {
     "data": {
      "text/plain": [
       "['Jump to navigation',\n",
       " 'Jump to search',\n",
       " 'Python',\n",
       " 'python',\n",
       " '1 Snakes',\n",
       " '2 Computing',\n",
       " '3 People',\n",
       " '4 Roller coasters',\n",
       " '5 Vehicles',\n",
       " '6 Weaponry',\n",
       " '7 Other uses',\n",
       " '8 See also',\n",
       " 'edit',\n",
       " 'Pythonidae',\n",
       " 'Python (genus)',\n",
       " 'Python (mythology)',\n",
       " 'edit',\n",
       " 'Python (programming language)',\n",
       " 'CMU Common Lisp',\n",
       " 'PERQ 3',\n",
       " 'edit',\n",
       " 'Python of Aenus',\n",
       " 'Python (painter)',\n",
       " 'Python of Byzantium',\n",
       " 'Python of Catana',\n",
       " 'Python Anghelo',\n",
       " 'edit',\n",
       " 'Python (Efteling)',\n",
       " 'Python (Busch Gardens Tampa Bay)',\n",
       " 'Python (Coney Island, Cincinnati, Ohio)',\n",
       " 'edit',\n",
       " 'Python (automobile maker)',\n",
       " 'Python (Ford prototype)',\n",
       " 'edit',\n",
       " 'Python (missile)',\n",
       " 'Python (nuclear primary)',\n",
       " 'Colt Python',\n",
       " 'edit',\n",
       " 'Python (codename)',\n",
       " 'Python (film)',\n",
       " 'Monty Python',\n",
       " 'Python (Monty) Pictures',\n",
       " 'Timon of Phlius',\n",
       " 'edit',\n",
       " 'Cython',\n",
       " 'Pyton',\n",
       " 'Pithon',\n",
       " '',\n",
       " 'disambiguation',\n",
       " 'internal link',\n",
       " 'https://en.wikipedia.org/w/index.php?title=Python&oldid=1120123765',\n",
       " 'Categories',\n",
       " 'Disambiguation pages',\n",
       " 'Human name disambiguation pages',\n",
       " 'Disambiguation pages with given-name-holder lists',\n",
       " 'Disambiguation pages with short descriptions',\n",
       " 'Short description is different from Wikidata',\n",
       " 'All article disambiguation pages',\n",
       " 'All disambiguation pages',\n",
       " 'Animal common name disambiguation pages',\n",
       " 'Talk',\n",
       " 'Contributions',\n",
       " 'Create account',\n",
       " 'Log in',\n",
       " 'Article',\n",
       " 'Talk',\n",
       " 'Read',\n",
       " 'Edit',\n",
       " 'View history',\n",
       " '',\n",
       " 'Main page',\n",
       " 'Contents',\n",
       " 'Current events',\n",
       " 'Random article',\n",
       " 'About Wikipedia',\n",
       " 'Contact us',\n",
       " 'Donate',\n",
       " 'Help',\n",
       " 'Learn to edit',\n",
       " 'Community portal',\n",
       " 'Recent changes',\n",
       " 'Upload file',\n",
       " 'What links here',\n",
       " 'Related changes',\n",
       " 'Upload file',\n",
       " 'Special pages',\n",
       " 'Permanent link',\n",
       " 'Page information',\n",
       " 'Cite this page',\n",
       " 'Wikidata item',\n",
       " 'Download as PDF',\n",
       " 'Printable version',\n",
       " 'Wikimedia Commons',\n",
       " 'Afrikaans',\n",
       " 'Alemannisch',\n",
       " 'العربية',\n",
       " 'Azərbaycanca',\n",
       " 'বাংলা',\n",
       " 'Беларуская',\n",
       " 'Български',\n",
       " 'Čeština',\n",
       " 'Dansk',\n",
       " 'Deutsch',\n",
       " 'Esperanto',\n",
       " 'Euskara',\n",
       " 'فارسی',\n",
       " 'Français',\n",
       " '한국어',\n",
       " 'Hrvatski',\n",
       " 'Ido',\n",
       " 'Bahasa Indonesia',\n",
       " 'Interlingua',\n",
       " 'Íslenska',\n",
       " 'Italiano',\n",
       " 'עברית',\n",
       " 'ქართული',\n",
       " 'Kongo',\n",
       " 'Latina',\n",
       " 'Lëtzebuergesch',\n",
       " 'Magyar',\n",
       " 'मराठी',\n",
       " 'Nederlands',\n",
       " '日本語',\n",
       " 'Norsk bokmål',\n",
       " 'Polski',\n",
       " 'Português',\n",
       " 'Русский',\n",
       " 'Slovenčina',\n",
       " 'Српски / srpski',\n",
       " 'Srpskohrvatski / српскохрватски',\n",
       " 'Suomi',\n",
       " 'Svenska',\n",
       " 'ไทย',\n",
       " 'Türkçe',\n",
       " 'Українська',\n",
       " 'اردو',\n",
       " 'Tiếng Việt',\n",
       " '中文',\n",
       " 'Edit links',\n",
       " 'Creative Commons Attribution-ShareAlike License 3.0',\n",
       " '',\n",
       " 'Terms of Use',\n",
       " 'Privacy Policy',\n",
       " 'Wikimedia Foundation, Inc.',\n",
       " 'Privacy policy',\n",
       " 'About Wikipedia',\n",
       " 'Disclaimers',\n",
       " 'Contact Wikipedia',\n",
       " 'Mobile view',\n",
       " 'Developers',\n",
       " 'Statistics',\n",
       " 'Cookie statement',\n",
       " '',\n",
       " '']"
      ]
     },
     "execution_count": 235,
     "metadata": {},
     "output_type": "execute_result"
    }
   ],
   "source": [
    "cosa = piton.find_all('a')\n",
    "cosa = [f.text.strip() for f in cosa]\n",
    "cosa.remove('')\n",
    "cosa"
   ]
  },
  {
   "cell_type": "markdown",
   "metadata": {},
   "source": [
    "#### Number of Titles that have changed in the United States Code since its last release point "
   ]
  },
  {
   "cell_type": "code",
   "execution_count": 236,
   "metadata": {},
   "outputs": [],
   "source": [
    "# This is the url you will scrape in this exercise\n",
    "url = 'http://uscode.house.gov/download/download.shtml'"
   ]
  },
  {
   "cell_type": "code",
   "execution_count": 238,
   "metadata": {},
   "outputs": [],
   "source": [
    "us = req.get(url).text\n",
    "usa = bs(us, 'html.parser')"
   ]
  },
  {
   "cell_type": "code",
   "execution_count": 242,
   "metadata": {},
   "outputs": [
    {
     "data": {
      "text/plain": [
       "9"
      ]
     },
     "execution_count": 242,
     "metadata": {},
     "output_type": "execute_result"
    }
   ],
   "source": [
    "cosa2 = usa.find_all('div', class_='usctitlechanged')\n",
    "cosa2 = [f.text.strip() for f in cosa2]\n",
    "len(cosa2)"
   ]
  },
  {
   "cell_type": "markdown",
   "metadata": {},
   "source": [
    "#### A Python list with the top ten FBI's Most Wanted names "
   ]
  },
  {
   "cell_type": "code",
   "execution_count": 243,
   "metadata": {},
   "outputs": [],
   "source": [
    "# This is the url you will scrape in this exercise\n",
    "url = 'https://www.fbi.gov/wanted/topten'"
   ]
  },
  {
   "cell_type": "code",
   "execution_count": 246,
   "metadata": {},
   "outputs": [],
   "source": [
    "a = req.get(url).text\n",
    "b = bs(a, 'html.parser')"
   ]
  },
  {
   "cell_type": "code",
   "execution_count": 252,
   "metadata": {},
   "outputs": [
    {
     "data": {
      "text/plain": [
       "['OMAR ALEXANDER CARDENAS',\n",
       " 'ALEXIS FLORES',\n",
       " 'JOSE RODOLFO VILLARREAL-HERNANDEZ',\n",
       " 'YULAN ADONAY ARCHAGA CARIAS',\n",
       " 'BHADRESHKUMAR CHETANBHAI PATEL',\n",
       " 'ALEJANDRO ROSALES CASTILLO',\n",
       " 'MICHAEL JAMES PRATT',\n",
       " 'RUJA IGNATOVA',\n",
       " 'ARNOLDO JIMENEZ',\n",
       " 'RAFAEL CARO-QUINTERO']"
      ]
     },
     "execution_count": 252,
     "metadata": {},
     "output_type": "execute_result"
    }
   ],
   "source": [
    "MW = b.find_all('h3', class_='title')\n",
    "MW = [f.text.strip() for f in MW]\n",
    "MW"
   ]
  },
  {
   "cell_type": "code",
   "execution_count": null,
   "metadata": {},
   "outputs": [],
   "source": []
  },
  {
   "cell_type": "markdown",
   "metadata": {},
   "source": [
    "####  20 latest earthquakes info (date, time, latitude, longitude and region name) by the EMSC as a pandas dataframe"
   ]
  },
  {
   "cell_type": "code",
   "execution_count": 255,
   "metadata": {},
   "outputs": [],
   "source": [
    "# This is the url you will scrape in this exercise\n",
    "url = 'https://www.emsc-csem.org/Earthquake/'"
   ]
  },
  {
   "cell_type": "code",
   "execution_count": 256,
   "metadata": {},
   "outputs": [],
   "source": [
    "c = req.get(url).text\n",
    "d = bs(c, 'html.parser')"
   ]
  },
  {
   "cell_type": "code",
   "execution_count": 293,
   "metadata": {},
   "outputs": [
    {
     "data": {
      "text/plain": [
       "['CitizenResponse',\n",
       " 'Date & Time UTC',\n",
       " 'Latitude degrees',\n",
       " 'Longitude degrees',\n",
       " 'Depth km',\n",
       " 'Mag  [+]',\n",
       " 'Region name  [+]',\n",
       " 'Last update [-]']"
      ]
     },
     "execution_count": 293,
     "metadata": {},
     "output_type": "execute_result"
    }
   ],
   "source": [
    "eq = d.find_all('th', class_= 'th2')\n",
    "eq = [f.text.strip() for f in eq]\n",
    "eq"
   ]
  },
  {
   "cell_type": "code",
   "execution_count": 295,
   "metadata": {},
   "outputs": [],
   "source": [
    "column_quake = d.find_all('th', class_= 'th2')"
   ]
  },
  {
   "cell_type": "code",
   "execution_count": 296,
   "metadata": {},
   "outputs": [
    {
     "name": "stdout",
     "output_type": "stream",
     "text": [
      "['CitizenResponse', 'Date & Time UTC', 'Latitude degrees', 'Longitude degrees', 'Depth km', 'Mag  [+]', 'Region name  [+]', 'Last update [-]']\n"
     ]
    }
   ],
   "source": [
    "columnas=[]\n",
    "for i in column_quake:\n",
    "    columnas.append(i.text)\n",
    "print(columnas)\n",
    "    "
   ]
  },
  {
   "cell_type": "code",
   "execution_count": null,
   "metadata": {},
   "outputs": [],
   "source": []
  },
  {
   "cell_type": "code",
   "execution_count": null,
   "metadata": {},
   "outputs": [],
   "source": []
  },
  {
   "cell_type": "code",
   "execution_count": 266,
   "metadata": {},
   "outputs": [],
   "source": [
    "df = pd.DataFrame(eq)"
   ]
  },
  {
   "cell_type": "code",
   "execution_count": 268,
   "metadata": {},
   "outputs": [
    {
     "data": {
      "text/plain": [
       "<bound method DataFrame.info of                                                     0\n",
       "0   earthquake2022-11-08   15:38:00.026min ago46.0...\n",
       "1   earthquake2022-11-08   15:32:57.631min ago46.9...\n",
       "2   earthquake2022-11-08   15:27:12.036min ago24.1...\n",
       "3   earthquake2022-11-08   15:26:06.938min ago39.4...\n",
       "4   earthquake2022-11-08   15:23:24.240min ago43.6...\n",
       "5   3IVearthquake2022-11-08   15:22:36.941min ago2...\n",
       "6   earthquake2022-11-08   15:17:23.946min ago18.0...\n",
       "7   Fearthquake2022-11-08   15:08:26.855min ago19....\n",
       "8   earthquake2022-11-08   14:50:48.01hr 13min ago...\n",
       "9   earthquake2022-11-08   14:49:11.01hr 14min ago...\n",
       "10  earthquake2022-11-08   14:43:44.81hr 20min ago...\n",
       "11  earthquake2022-11-08   14:38:45.61hr 25min ago...\n",
       "12  Fearthquake2022-11-08   14:30:01.81hr 34min ag...\n",
       "13  earthquake2022-11-08   14:26:07.01hr 38min ago...\n",
       "14  earthquake2022-11-08   14:24:30.01hr 39min ago...\n",
       "15  earthquake2022-11-08   14:20:38.01hr 43min ago...\n",
       "16  earthquake2022-11-08   13:42:34.52hr 21min ago...\n",
       "17  earthquake2022-11-08   13:09:18.02hr 54min ago...\n",
       "18  earthquake2022-11-08   13:05:57.02hr 58min ago...\n",
       "19  earthquake2022-11-08   12:53:04.33hr 11min ago...\n",
       "20  earthquake2022-11-08   12:26:00.33hr 38min ago...\n",
       "21  earthquake2022-11-08   12:13:59.03hr 50min ago...\n",
       "22  earthquake2022-11-08   12:05:34.33hr 58min ago...\n",
       "23  earthquake2022-11-08   11:57:11.44hr 06min ago...\n",
       "24  earthquake2022-11-08   11:47:14.04hr 16min ago...\n",
       "25  earthquake2022-11-08   11:45:08.04hr 19min ago...\n",
       "26  earthquake2022-11-08   11:42:32.94hr 21min ago...\n",
       "27  earthquake2022-11-08   11:33:39.74hr 30min ago...\n",
       "28  earthquake2022-11-08   11:32:10.04hr 32min ago...\n",
       "29  earthquake2022-11-08   11:27:25.04hr 36min ago...\n",
       "30  earthquake2022-11-08   11:25:34.04hr 38min ago...\n",
       "31  earthquake2022-11-08   11:24:59.04hr 39min ago...\n",
       "32  earthquake2022-11-08   11:18:27.04hr 45min ago...\n",
       "33  earthquake2022-11-08   11:16:10.34hr 47min ago...\n",
       "34  earthquake2022-11-08   11:04:28.14hr 59min ago...\n",
       "35  earthquake2022-11-08   10:58:26.05hr 05min ago...\n",
       "36  earthquake2022-11-08   10:57:27.05hr 06min ago...\n",
       "37  earthquake2022-11-08   10:53:42.05hr 10min ago...\n",
       "38  earthquake2022-11-08   10:43:41.05hr 20min ago...\n",
       "39  earthquake2022-11-08   10:35:34.05hr 28min ago...\n",
       "40  1Fearthquake2022-11-08   10:17:09.85hr 47min a...\n",
       "41  earthquake2022-11-08   09:58:40.06hr 05min ago...\n",
       "42  earthquake2022-11-08   09:57:39.06hr 06min ago...\n",
       "43  earthquake2022-11-08   09:47:53.06hr 16min ago...\n",
       "44  earthquake2022-11-08   09:42:51.06hr 21min ago...\n",
       "45  earthquake2022-11-08   09:35:57.06hr 28min ago...\n",
       "46  earthquake2022-11-08   09:33:13.56hr 30min ago...\n",
       "47  earthquake2022-11-08   09:32:52.06hr 31min ago...\n",
       "48  earthquake2022-11-08   09:15:32.06hr 48min ago...\n",
       "49  earthquake2022-11-08   09:14:04.06hr 50min ago...>"
      ]
     },
     "execution_count": 268,
     "metadata": {},
     "output_type": "execute_result"
    }
   ],
   "source": [
    "df.info"
   ]
  },
  {
   "cell_type": "code",
   "execution_count": null,
   "metadata": {},
   "outputs": [],
   "source": []
  },
  {
   "cell_type": "markdown",
   "metadata": {},
   "source": [
    "#### Display the date, days, title, city, country of next 25 hackathon events as a Pandas dataframe table"
   ]
  },
  {
   "cell_type": "code",
   "execution_count": null,
   "metadata": {},
   "outputs": [],
   "source": [
    "# This is the url you will scrape in this exercise\n",
    "url ='https://hackevents.co/hackathons'"
   ]
  },
  {
   "cell_type": "code",
   "execution_count": null,
   "metadata": {},
   "outputs": [],
   "source": [
    "#your code"
   ]
  },
  {
   "cell_type": "markdown",
   "metadata": {},
   "source": [
    "#### Count number of tweets by a given Twitter account."
   ]
  },
  {
   "cell_type": "markdown",
   "metadata": {},
   "source": [
    "You will need to include a ***try/except block*** for account names not found. \n",
    "<br>***Hint:*** the program should count the number of tweets for any provided account"
   ]
  },
  {
   "cell_type": "code",
   "execution_count": null,
   "metadata": {},
   "outputs": [],
   "source": [
    "# This is the url you will scrape in this exercise \n",
    "# You will need to add the account credentials to this url\n",
    "url = 'https://twitter.com/'"
   ]
  },
  {
   "cell_type": "code",
   "execution_count": null,
   "metadata": {},
   "outputs": [],
   "source": [
    "#your code"
   ]
  },
  {
   "cell_type": "markdown",
   "metadata": {},
   "source": [
    "#### Number of followers of a given twitter account"
   ]
  },
  {
   "cell_type": "markdown",
   "metadata": {},
   "source": [
    "You will need to include a ***try/except block*** in case account/s name not found. \n",
    "<br>***Hint:*** the program should count the followers for any provided account"
   ]
  },
  {
   "cell_type": "code",
   "execution_count": null,
   "metadata": {},
   "outputs": [],
   "source": [
    "# This is the url you will scrape in this exercise \n",
    "# You will need to add the account credentials to this url\n",
    "url = 'https://twitter.com/'"
   ]
  },
  {
   "cell_type": "code",
   "execution_count": null,
   "metadata": {},
   "outputs": [],
   "source": [
    "#your code"
   ]
  },
  {
   "cell_type": "markdown",
   "metadata": {},
   "source": [
    "#### List all language names and number of related articles in the order they appear in wikipedia.org"
   ]
  },
  {
   "cell_type": "code",
   "execution_count": null,
   "metadata": {},
   "outputs": [],
   "source": [
    "# This is the url you will scrape in this exercise\n",
    "url = 'https://www.wikipedia.org/'"
   ]
  },
  {
   "cell_type": "code",
   "execution_count": null,
   "metadata": {},
   "outputs": [],
   "source": [
    "#your code"
   ]
  },
  {
   "cell_type": "markdown",
   "metadata": {},
   "source": [
    "#### A list with the different kind of datasets available in data.gov.uk "
   ]
  },
  {
   "cell_type": "code",
   "execution_count": null,
   "metadata": {},
   "outputs": [],
   "source": [
    "# This is the url you will scrape in this exercise\n",
    "url = 'https://data.gov.uk/'"
   ]
  },
  {
   "cell_type": "code",
   "execution_count": null,
   "metadata": {},
   "outputs": [],
   "source": [
    "#your code "
   ]
  },
  {
   "cell_type": "markdown",
   "metadata": {},
   "source": [
    "#### Top 10 languages by number of native speakers stored in a Pandas Dataframe"
   ]
  },
  {
   "cell_type": "code",
   "execution_count": null,
   "metadata": {},
   "outputs": [],
   "source": [
    "# This is the url you will scrape in this exercise\n",
    "url = 'https://en.wikipedia.org/wiki/List_of_languages_by_number_of_native_speakers'"
   ]
  },
  {
   "cell_type": "code",
   "execution_count": null,
   "metadata": {},
   "outputs": [],
   "source": [
    "#your code"
   ]
  },
  {
   "cell_type": "markdown",
   "metadata": {},
   "source": [
    "### BONUS QUESTIONS"
   ]
  },
  {
   "cell_type": "markdown",
   "metadata": {},
   "source": [
    "#### Scrape a certain number of tweets of a given Twitter account."
   ]
  },
  {
   "cell_type": "code",
   "execution_count": null,
   "metadata": {},
   "outputs": [],
   "source": [
    "# This is the url you will scrape in this exercise \n",
    "# You will need to add the account credentials to this url\n",
    "url = 'https://twitter.com/'"
   ]
  },
  {
   "cell_type": "code",
   "execution_count": null,
   "metadata": {},
   "outputs": [],
   "source": [
    "# your code"
   ]
  },
  {
   "cell_type": "markdown",
   "metadata": {},
   "source": [
    "#### IMDB's Top 250 data (movie name, Initial release, director name and stars) as a pandas dataframe"
   ]
  },
  {
   "cell_type": "code",
   "execution_count": null,
   "metadata": {},
   "outputs": [],
   "source": [
    "# This is the url you will scrape in this exercise \n",
    "url = 'https://www.imdb.com/chart/top'"
   ]
  },
  {
   "cell_type": "code",
   "execution_count": null,
   "metadata": {},
   "outputs": [],
   "source": [
    "# your code"
   ]
  },
  {
   "cell_type": "markdown",
   "metadata": {},
   "source": [
    "#### Movie name, year and a brief summary of the top 10 random movies (IMDB) as a pandas dataframe."
   ]
  },
  {
   "cell_type": "code",
   "execution_count": null,
   "metadata": {},
   "outputs": [],
   "source": [
    "#This is the url you will scrape in this exercise\n",
    "url = 'http://www.imdb.com/chart/top'"
   ]
  },
  {
   "cell_type": "code",
   "execution_count": null,
   "metadata": {},
   "outputs": [],
   "source": [
    "#your code"
   ]
  },
  {
   "cell_type": "markdown",
   "metadata": {},
   "source": [
    "#### Find the live weather report (temperature, wind speed, description and weather) of a given city."
   ]
  },
  {
   "cell_type": "code",
   "execution_count": null,
   "metadata": {},
   "outputs": [],
   "source": [
    "#https://openweathermap.org/current\n",
    "city = city=input('Enter the city:')\n",
    "url = 'http://api.openweathermap.org/data/2.5/weather?'+'q='+city+'&APPID=b35975e18dc93725acb092f7272cc6b8&units=metric'"
   ]
  },
  {
   "cell_type": "code",
   "execution_count": null,
   "metadata": {},
   "outputs": [],
   "source": [
    "# your code"
   ]
  },
  {
   "cell_type": "markdown",
   "metadata": {},
   "source": [
    "#### Book name,price and stock availability as a pandas dataframe."
   ]
  },
  {
   "cell_type": "code",
   "execution_count": null,
   "metadata": {},
   "outputs": [],
   "source": [
    "# This is the url you will scrape in this exercise. \n",
    "# It is a fictional bookstore created to be scraped. \n",
    "url = 'http://books.toscrape.com/'"
   ]
  },
  {
   "cell_type": "code",
   "execution_count": null,
   "metadata": {},
   "outputs": [],
   "source": [
    "#your code"
   ]
  }
 ],
 "metadata": {
  "kernelspec": {
   "display_name": "Python 3 (ipykernel)",
   "language": "python",
   "name": "python3"
  },
  "language_info": {
   "codemirror_mode": {
    "name": "ipython",
    "version": 3
   },
   "file_extension": ".py",
   "mimetype": "text/x-python",
   "name": "python",
   "nbconvert_exporter": "python",
   "pygments_lexer": "ipython3",
   "version": "3.9.12"
  }
 },
 "nbformat": 4,
 "nbformat_minor": 2
}
